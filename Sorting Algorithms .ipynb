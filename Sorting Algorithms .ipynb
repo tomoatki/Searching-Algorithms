{
 "cells": [
  {
   "cell_type": "code",
   "execution_count": 1,
   "metadata": {},
   "outputs": [
    {
     "name": "stdout",
     "output_type": "stream",
     "text": [
      "[2, 6, 11, 19, 27, 31, 45, 121]\n"
     ]
    }
   ],
   "source": [
    "def  bubblesort(list):\n",
    "    \n",
    "    for inter_num in range(len(list)-1,0,-1):\n",
    "        for idx in range(inter_num):\n",
    "            if list[idx]>list[idx+1]:\n",
    "                temp = list[idx]\n",
    "                list[idx] = list[idx+1]\n",
    "                list[idx+1] = temp\n",
    "                \n",
    "list = [19,2,31,45,6,11,121,27]\n",
    "bubblesort(list)\n",
    "print(list)\n",
    "\n",
    "# good for small data organisations bad for large \n"
   ]
  },
  {
   "cell_type": "code",
   "execution_count": 50,
   "metadata": {},
   "outputs": [
    {
     "name": "stdout",
     "output_type": "stream",
     "text": [
      "[2, 11, 19, 27, 30, 31, 45, 121]\n"
     ]
    }
   ],
   "source": [
    "def insertion_sort(InputList):\n",
    "    for i in range(1, len(InputList)):\n",
    "        j = i - 1\n",
    "        nxt_element = InputList[i]\n",
    "        \n",
    "        while (InputList[j] > nxt_element) and (j >=0):\n",
    "            InputList[j+1] = InputList[j]\n",
    "            j=j-1\n",
    "        InputList[j+1] = nxt_element\n",
    "        \n",
    "List = [19,2,31,45,30,11,121,27]\n",
    "insertion_sort(list)\n",
    "print(list)"
   ]
  },
  {
   "cell_type": "code",
   "execution_count": 12,
   "metadata": {},
   "outputs": [
    {
     "name": "stdout",
     "output_type": "stream",
     "text": [
      "[2, 11, 19, 27, 30, 31, 45, 121]\n"
     ]
    }
   ],
   "source": [
    "def selection_sort(input_list):\n",
    "    \n",
    "    for idx in range(len(input_list)):\n",
    "        \n",
    "        min_idx = idx\n",
    "        for j in range( idx +1, len(input_list)):\n",
    "            if input_list[min_idx] > input_list[j]:\n",
    "                min_idx = j\n",
    "# swap min value with compared value\n",
    "\n",
    "        input_list[idx], input_list[min_idx] = input_list[min_idx], input_list[idx]\n",
    "\n",
    "l = [19,2,31,45,30,11,121,27]\n",
    "\n",
    "selection_sort(l)\n",
    "print(l)"
   ]
  },
  {
   "cell_type": "code",
   "execution_count": 11,
   "metadata": {},
   "outputs": [
    {
     "name": "stdout",
     "output_type": "stream",
     "text": [
      "[2, 11, 19, 27, 30, 31, 45, 121]\n"
     ]
    }
   ],
   "source": []
  }
 ],
 "metadata": {
  "kernelspec": {
   "display_name": "Python 3",
   "language": "python",
   "name": "python3"
  },
  "language_info": {
   "codemirror_mode": {
    "name": "ipython",
    "version": 3
   },
   "file_extension": ".py",
   "mimetype": "text/x-python",
   "name": "python",
   "nbconvert_exporter": "python",
   "pygments_lexer": "ipython3",
   "version": "3.6.3"
  }
 },
 "nbformat": 4,
 "nbformat_minor": 2
}
